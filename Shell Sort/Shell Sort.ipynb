{
 "cells": [
  {
   "cell_type": "markdown",
   "metadata": {},
   "source": [
    "# SHELL SORT"
   ]
  },
  {
   "cell_type": "markdown",
   "metadata": {},
   "source": [
    "This method uses a segmentation between the data. It works by comparing elements that are distant; The distance between comparisons decreases as the algorithm runs until the last phase, in which the adjacent elements are compared, for this reason it is called sorting by decreasing increments.\n",
    "considering the full list of values as a set of interleaved sublists. On the first\n",
    "pass, it may deal with sublists that are just pairs of elements. On the second\n",
    "pass, it could deal with groups of four elements each. The process repeats,\n",
    "increasing the number of elements per sublist and, therefore, decreasing the\n",
    "number of sublists"
   ]
  },
  {
   "cell_type": "markdown",
   "metadata": {},
   "source": [
    "<center><img src='img/shell_sort.jpg'><\\center>"
   ]
  },
  {
   "cell_type": "markdown",
   "metadata": {},
   "source": [
    "<img src='img/Time20K.jpg'>"
   ]
  },
  {
   "cell_type": "markdown",
   "metadata": {},
   "source": [
    "# Pseudocode\n",
    "    passes = |lg N|\n",
    "    while (passes ≥ 1) do\n",
    "     increment = 2^passes - 1\n",
    "     for start = 1 to increment do\n",
    "     InsertionSort( list, N, start, increment )\n",
    "     end for\n",
    "     passes = passes - 1\n",
    "    end while"
   ]
  },
  {
   "cell_type": "markdown",
   "metadata": {},
   "source": [
    "## Complexity"
   ]
  },
  {
   "cell_type": "markdown",
   "metadata": {},
   "source": [
    "\n",
    "    // C++ implementation of Shell Sort\n",
    "    #include  <iostream>\n",
    "    using namespace std;\n",
    "    int shellSort(int arr[], int n){\n",
    "        for (int gap = n/2; gap > 0; gap /= 2){\n",
    "            for (int i = gap; i < n; i += 1)\n",
    "            {\n",
    "                int temp = arr[i];\n",
    "                int j;\n",
    "                for (j = i; j >= gap && arr[j - gap] > temp; j -= gap)\n",
    "                    {\n",
    "                    arr[j] = arr[j - gap];\n",
    "                    }\n",
    "                arr[j] = temp;\n",
    "            }\n",
    "\n",
    "        }\n",
    "        return 0;\n",
    "    }\n",
    "\n",
    "    void printArray(int arr[], int n)\n",
    "    {\n",
    "        for (int i=0; i<n; i++)\n",
    "            cout << arr[i] << \" \";\n",
    "    }\n",
    "\n",
    "    int main()\n",
    "    {\n",
    "        int arr[] = {10,9,8,7,6,5,4,3,2,1};\n",
    "        int n = sizeof(arr)/sizeof(arr[0]);\n",
    "\n",
    "        cout << \"Array before sorting: \\n\";\n",
    "        printArray(arr, n);\n",
    "\n",
    "        shellSort(arr, n);\n",
    "\n",
    "        cout << \"\\nArray after sorting: \\n\";\n",
    "        printArray(arr, n);\n",
    "\n",
    "        return 0;\n",
    "    }"
   ]
  },
  {
   "cell_type": "markdown",
   "metadata": {},
   "source": [
    "| C     | Steps_____________ | idea ________-----_________--------______*|ecuation___________----------_________|\n",
    "| ------------- |:-------------:|:---: |:----: |\n",
    "| 1      |   $\\sum_{i=n/2}^{lg(n))}$    | | $lg(n)$|\n",
    "| 2 |   $\\sum_{i=n/2}^{lg(n)}\\sum_{j=i}^{n}$ | |$nlg(n)$|\n",
    "| 3 | $\\sum_{i=n/2}^{lg(n)}\\sum_{j=i}^{n}-1$ | |$nlg(n)-1$|\n",
    "| 4 | $\\sum_{i=n/2}^{lg(n)}\\sum_{j=i}^{n}-1$ | |$nlg(n)-1$||\n",
    "| 5 | $Insertion sort$ | $\\sum_{i=n/2}^{lg(n)}\\sum_{j=i}^{n}\\sum_{z=j}^{m}$ |$nlg(n)*n^2$|\n",
    "| 6 | $Insertion sort$ | $\\sum_{i=n/2}^{lg(n)}\\sum_{j=i}^{n}\\sum_{z=j}^{m}-1$ |$nlg(n)*n^2 -1$|\n",
    "| 7 | $\\sum_{i=n/2}^{lg(n)}\\sum_{j=i}^{n}-1$ | |$nlg(n)-1$|\n",
    "|8|$1$||\n"
   ]
  },
  {
   "cell_type": "markdown",
   "metadata": {},
   "source": [
    "$\n",
    "Complexity\\ \\ \\Theta(nlg(n))\\\\\n",
    "Best\\ Case\\ \\ O(nlg(n))\\\\\n",
    "Worst\\ Case\\ \\ O(n^³lg(n))\\\\\n",
    "Average\\ Case\\ \\ O(nlg(n))\\\\\n",
    "$"
   ]
  },
  {
   "cell_type": "markdown",
   "metadata": {},
   "source": [
    "<img src='img/graph.jpeg'>"
   ]
  },
  {
   "cell_type": "code",
   "execution_count": null,
   "metadata": {},
   "outputs": [],
   "source": []
  }
 ],
 "metadata": {
  "kernelspec": {
   "display_name": "Python 3",
   "language": "python",
   "name": "python3"
  },
  "language_info": {
   "codemirror_mode": {
    "name": "ipython",
    "version": 3
   },
   "file_extension": ".py",
   "mimetype": "text/x-python",
   "name": "python",
   "nbconvert_exporter": "python",
   "pygments_lexer": "ipython3",
   "version": "3.5.3"
  }
 },
 "nbformat": 4,
 "nbformat_minor": 4
}
